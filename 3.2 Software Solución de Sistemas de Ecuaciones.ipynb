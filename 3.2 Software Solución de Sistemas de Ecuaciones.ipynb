{
 "cells": [
  {
   "cell_type": "markdown",
   "metadata": {},
   "source": [
    "# 3.2.Software Solución de Sistemas de Ecuaciones\n",
    "##### Desarrollar una aplicación con un lenguaje de alto nivel para resolver sistemas de ecuaciones lineales y no lineales."
   ]
  },
  {
   "cell_type": "markdown",
   "metadata": {},
   "source": [
    "# Métodos Númericos\n",
    "### Ingeniería en Sistemas Computacionales\n",
    "### Docente: MM. Jorger Pool Cel\n",
    "### Equipo:\n",
    "#### Ché Dzib Héctor Armín\n",
    "#### Herrera Tuz Adrián Martín\n",
    "#### Kanxoc Hau Lourdes Judith\n",
    "### UNIDAD 3\n",
    "### 4°A"
   ]
  },
  {
   "cell_type": "markdown",
   "metadata": {},
   "source": [
    "## Para sistemas de ecuaciones lineales"
   ]
  },
  {
   "cell_type": "markdown",
   "metadata": {},
   "source": [
    "### Método de Gauss-Seidel"
   ]
  },
  {
   "cell_type": "code",
   "execution_count": 1,
   "metadata": {},
   "outputs": [
    {
     "name": "stdout",
     "output_type": "stream",
     "text": [
      "Introduce el tamaño de la matriz\n",
      "Valor de m:4\n",
      "Valor de n:4\n",
      "Introduce los valores de la matriz\n",
      "Elemento a[11] 10\n",
      "Elemento a[12] -1\n",
      "Elemento a[13] 2\n",
      "Elemento a[14] 0\n",
      "b[1]: 6\n",
      "Elemento a[21] -1\n",
      "Elemento a[22] 11\n",
      "Elemento a[23] -1\n",
      "Elemento a[24] 3\n",
      "b[2]: 25\n",
      "Elemento a[31] 2\n",
      "Elemento a[32] -1\n",
      "Elemento a[33] 10\n",
      "Elemento a[34] -1\n",
      "b[3]: -11\n",
      "Elemento a[41] 0\n",
      "Elemento a[42] 3\n",
      "Elemento a[43] -1\n",
      "Elemento a[44] 8\n",
      "b[4]: 15\n",
      "Digite la tolerancia del error: 0.001\n",
      "Digite el número máximo de iteraciones: 500\n",
      "x[0]: 0.6\n",
      "x[1]: 2.3272727272727276\n",
      "x[2]: -0.9872727272727273\n",
      "x[3]: 0.8788636363636363\n",
      "Error en x[ 0 ]=  4.301818181818183\n",
      "Error en x[ 1 ]=  3.623863636363641\n",
      "Error en x[ 2 ]=  0.8788636363636364\n",
      "Error en x[ 3 ]=  0.0\n",
      "Iteraciones:  1\n",
      "x[0]: 1.0301818181818183\n",
      "x[1]: 2.0369380165289255\n",
      "x[2]: -1.0144561983471074\n",
      "x[3]: 0.9843412190082644\n",
      "Error en x[ 0 ]=  0.23596776859504232\n",
      "Error en x[ 1 ]=  0.3436162190082612\n",
      "Error en x[ 2 ]=  0.10547758264462814\n",
      "Error en x[ 3 ]=  0.0\n",
      "Iteraciones:  2\n",
      "x[0]: 1.006585041322314\n",
      "x[1]: 2.003555016904583\n",
      "x[2]: -1.002527384673178\n",
      "x[3]: 0.9983509455766342\n",
      "Error en x[ 0 ]=  0.05724062697220145\n",
      "Error en x[ 1 ]=  0.030100366031177828\n",
      "Error en x[ 2 ]=  0.014009726568367853\n",
      "Error en x[ 3 ]=  0.0\n",
      "Iteraciones:  3\n",
      "x[0]: 1.000860978625094\n",
      "x[1]: 2.000298250656547\n",
      "x[2]: -1.0003072761017007\n",
      "x[3]: 0.9998497464910823\n",
      "Error en x[ 0 ]=  0.007696983390991008\n",
      "Error en x[ 1 ]=  0.0022762941718674767\n",
      "Error en x[ 2 ]=  0.001498800914447429\n",
      "Error en x[ 3 ]=  0.0\n",
      "Iteraciones:  4\n",
      "x[0]: 1.000091280285995\n",
      "x[1]: 2.000021342246459\n",
      "x[2]: -1.0000311471834449\n",
      "x[3]: 0.9999881032596473\n",
      "Error en x[ 0 ]=  0.0008291662466000105\n",
      "Error en x[ 1 ]=  0.00013894138744063866\n",
      "Error en x[ 2 ]=  0.00013835676856643886\n",
      "Error en x[ 3 ]=  0.0\n",
      "Iteraciones:  5\n"
     ]
    }
   ],
   "source": [
    "import numpy\n",
    "\n",
    "print ('Introduce el tamaño de la matriz')\n",
    "m=int(input('Valor de m:'))\n",
    "n=int(input('Valor de n:'))\n",
    "matrix = numpy.zeros((m,n))\n",
    "x=numpy.zeros((m))\n",
    "\n",
    "vector=numpy.zeros((n))\n",
    "comp=numpy.zeros((m))\n",
    "error=[]\n",
    "\n",
    "\n",
    "print ('Introduce los valores de la matriz')\n",
    "for r in range(0,m):\n",
    "    for c in range(0,n):\n",
    "        matrix[(r),(c)]=float(input(\"Elemento a[\"+str(r+1)+str(c+1)+\"] \"))\n",
    "    vector[(r)]=float(input('b['+str(r+1)+']: '))\n",
    "tol=float(input(\"Digite la tolerancia del error: \"))\n",
    "itera=int(input(\"Digite el número máximo de iteraciones: \"))\n",
    "\n",
    "\n",
    "k=0\n",
    "while k<itera:\n",
    "    suma=0\n",
    "    k=k+1\n",
    "    for r in range(0,m):\n",
    "        suma=0\n",
    "        for c in range(0,n):\n",
    "            if (c != r):\n",
    "                suma=suma+matrix[r,c]*x[c]               \n",
    "        x[r]=(vector[r]-suma)/matrix[r,r]\n",
    "        print(\"x[\"+str(r)+\"]: \"+ str(x[r]))\n",
    "    del error[:]\n",
    "    for r in range (0,m):\n",
    "        suma =0\n",
    "        for c in range(0,n):\n",
    "            suma= suma+matrix[r,c]*x[c]\n",
    "        comp[r]= suma\n",
    "        dif=abs(comp[r]-vector[r])\n",
    "        error.append(dif)\n",
    "        print(\"Error en x[\",r,\"]= \", error[r])\n",
    "    print(\"Iteraciones: \", k)\n",
    "    if all (i<=tol for i in error) == True:\n",
    "        break"
   ]
  },
  {
   "cell_type": "markdown",
   "metadata": {},
   "source": [
    "### Método de Jacobi"
   ]
  },
  {
   "cell_type": "code",
   "execution_count": null,
   "metadata": {},
   "outputs": [],
   "source": [
    "import numpy as np\n",
    "from math import *"
   ]
  },
  {
   "cell_type": "code",
   "execution_count": 7,
   "metadata": {},
   "outputs": [],
   "source": [
    "#Definimos la matriz T\n",
    "T = np.array([[0,1/10,-1/5,0],[1/11,0,1/11,-3/11],[-1/5,1/10,0,1/10],[0,-3/8,1/8,0]])\n",
    "c = np.array([3/5,25/11,-11/10,15/8])\n",
    "x = np.array([0,0,0,0]) #vector de valores iniciales\n",
    "erroraceptado=0.001"
   ]
  },
  {
   "cell_type": "code",
   "execution_count": 8,
   "metadata": {},
   "outputs": [
    {
     "name": "stdout",
     "output_type": "stream",
     "text": [
      "(4, 4)\n",
      "(4,)\n",
      "Vector resultado:  [ 0.6         2.27272727 -1.1         1.875     ]\n",
      "Vector resultado:  [ 1.04727273  1.71590909 -0.80522727  0.88522727]\n",
      "Vector resultado:  [ 0.93263636  2.05330579 -1.04934091  1.13088068]\n",
      "Vector resultado:  [ 1.01519876  1.95369576 -0.96810863  0.97384272]\n",
      "Vector resultado:  [ 0.9889913   2.01141473 -1.0102859   1.02135051]\n",
      "Vector resultado:  [ 1.00319865  1.99224126 -0.99452174  0.99443374]\n",
      "Vector resultado:  [ 0.99812847  2.00230688 -1.00197223  1.00359431]\n",
      "Vector resultado:  [ 1.00062513  1.9986703  -0.99903558  0.99888839]\n",
      "Vector resultado:  [ 0.99967415  2.00044767 -1.00036916  1.00061919]\n"
     ]
    }
   ],
   "source": [
    "import numpy as np\n",
    "from math import *\n",
    "print(T.shape)\n",
    "print(c.shape)\n",
    "error=1\n",
    "while error>0.001:\n",
    "    resultado=np.dot(T,x) + c\n",
    "    numerador = np.amax( abs((resultado - x)))\n",
    "    denominador = np.amax( abs(resultado))\n",
    "    error = numerador/denominador\n",
    "    \n",
    "    print(\"Vector resultado: \" , resultado)\n",
    "    x=resultado"
   ]
  },
  {
   "cell_type": "markdown",
   "metadata": {},
   "source": [
    "## Para sistemas de ecuaciones no lineales"
   ]
  },
  {
   "cell_type": "markdown",
   "metadata": {},
   "source": [
    "### Método de punto fijo"
   ]
  },
  {
   "cell_type": "code",
   "execution_count": 9,
   "metadata": {},
   "outputs": [
    {
     "name": "stdout",
     "output_type": "stream",
     "text": [
      "Ingrese el valor inicial p0: 1.5\n",
      "Ingrese el error: 0.0001\n",
      "Ingrese el número de iteraciones: 50\n",
      "Iteracion:  1.6509636244473134\n",
      "Iteracion:  1.6322913532758982\n",
      "Iteracion:  1.6346240593972983\n",
      "Iteracion:  1.6343330008665646\n",
      "El punto fijo es  1.634369322747108 después de  5 iteraciones\n"
     ]
    }
   ],
   "source": [
    "import math\n",
    "\n",
    "import numpy as np\n",
    "\n",
    "def f(x):\n",
    "    return x**3 + x - 6\n",
    "\n",
    "def g(x):\n",
    "    return (6-x)**(1/3)\n",
    "\n",
    "p0=float(input(\"Ingrese el valor inicial p0: \"))\n",
    "tol=float(input(\"Ingrese el error: \"))\n",
    "N=int(input(\"Ingrese el número de iteraciones: \"))\n",
    "i=1\n",
    "while i<N:\n",
    "    p=g(p0)\n",
    "    if abs(p-p0)<tol:\n",
    "        print(\"El punto fijo es \",p,\"después de \",i, \"iteraciones\")\n",
    "        break\n",
    "    i=i+1\n",
    "    p0=p\n",
    "    print('Iteracion: ', p0)\n",
    "    if i>N:\n",
    "        print(\"El método no converge\")"
   ]
  },
  {
   "cell_type": "markdown",
   "metadata": {},
   "source": [
    "### Método de Newtón Raphson"
   ]
  },
  {
   "cell_type": "code",
   "execution_count": 10,
   "metadata": {},
   "outputs": [
    {
     "name": "stdout",
     "output_type": "stream",
     "text": [
      "['xi', 'xnuevo', 'tramo']\n",
      "[[1.0000000000e+00 3.5000000000e+00 2.5000000000e+00]\n",
      " [3.5000000000e+00 2.6071428571e+00 8.9285714286e-01]\n",
      " [2.6071428571e+00 2.4542563601e+00 1.5288649706e-01]\n",
      " [2.4542563601e+00 2.4494943716e+00 4.7619884713e-03]\n",
      " [2.4494943716e+00 2.4494897428e+00 4.6288194135e-06]]\n",
      "raiz en:  2.4494897427875517\n",
      "con error de:  4.628819413543539e-06\n"
     ]
    }
   ],
   "source": [
    "import numpy as np\n",
    "\n",
    "# INGRESO\n",
    "fx  = lambda x: x**2 - 6\n",
    "dfx = lambda x: 2*x\n",
    "\n",
    "x0 = 1\n",
    "tolera = 0.001\n",
    "\n",
    "# PROCEDIMIENTO\n",
    "tabla = []\n",
    "tramo = abs(2*tolera)\n",
    "xi = x0\n",
    "while (tramo>=tolera):\n",
    "    xnuevo = xi - fx(xi)/dfx(xi)\n",
    "    tramo  = abs(xnuevo-xi)\n",
    "    tabla.append([xi,xnuevo,tramo])\n",
    "    xi = xnuevo\n",
    "\n",
    "# convierte la lista a un arreglo.\n",
    "tabla = np.array(tabla)\n",
    "n = len(tabla)\n",
    "\n",
    "# SALIDA\n",
    "print(['xi', 'xnuevo', 'tramo'])\n",
    "np.set_printoptions(precision = 10)\n",
    "print(tabla)\n",
    "print('raiz en: ', xi)\n",
    "print('con error de: ',tramo)"
   ]
  },
  {
   "cell_type": "code",
   "execution_count": null,
   "metadata": {},
   "outputs": [],
   "source": []
  }
 ],
 "metadata": {
  "kernelspec": {
   "display_name": "Python 3",
   "language": "python",
   "name": "python3"
  },
  "language_info": {
   "codemirror_mode": {
    "name": "ipython",
    "version": 3
   },
   "file_extension": ".py",
   "mimetype": "text/x-python",
   "name": "python",
   "nbconvert_exporter": "python",
   "pygments_lexer": "ipython3",
   "version": "3.8.5"
  }
 },
 "nbformat": 4,
 "nbformat_minor": 4
}
